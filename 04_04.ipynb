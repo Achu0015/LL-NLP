{
  "nbformat": 4,
  "nbformat_minor": 0,
  "metadata": {
    "kernelspec": {
      "display_name": "Python 3",
      "language": "python",
      "name": "python3"
    },
    "language_info": {
      "codemirror_mode": {
        "name": "ipython",
        "version": 3
      },
      "file_extension": ".py",
      "mimetype": "text/x-python",
      "name": "python",
      "nbconvert_exporter": "python",
      "pygments_lexer": "ipython3",
      "version": "3.6.3"
    },
    "colab": {
      "name": "04_04.ipynb",
      "provenance": [],
      "toc_visible": true,
      "include_colab_link": true
    }
  },
  "cells": [
    {
      "cell_type": "markdown",
      "metadata": {
        "id": "view-in-github",
        "colab_type": "text"
      },
      "source": [
        "<a href=\"https://colab.research.google.com/github/Achu0015/LL-NLP/blob/master/04_04.ipynb\" target=\"_parent\"><img src=\"https://colab.research.google.com/assets/colab-badge.svg\" alt=\"Open In Colab\"/></a>"
      ]
    },
    {
      "cell_type": "markdown",
      "metadata": {
        "id": "2JYvQllVKXyG",
        "colab_type": "text"
      },
      "source": [
        "# Feature Engineering: Transformations"
      ]
    },
    {
      "cell_type": "markdown",
      "metadata": {
        "id": "zz-cPXS6KXyI",
        "colab_type": "text"
      },
      "source": [
        "### Read in text"
      ]
    },
    {
      "cell_type": "code",
      "metadata": {
        "id": "JtfnoiTbKXyI",
        "colab_type": "code",
        "colab": {}
      },
      "source": [
        "import pandas as pd\n",
        "\n",
        "data = pd.read_csv(\"sample_data/SMSSpamCollection.tsv\", sep='\\t')\n",
        "data.columns = ['label', 'body_text']"
      ],
      "execution_count": 2,
      "outputs": []
    },
    {
      "cell_type": "markdown",
      "metadata": {
        "id": "jh1LqF4lKXyM",
        "colab_type": "text"
      },
      "source": [
        "### Create the two new features"
      ]
    },
    {
      "cell_type": "code",
      "metadata": {
        "id": "yOpmOXZQKXyN",
        "colab_type": "code",
        "colab": {
          "base_uri": "https://localhost:8080/",
          "height": 204
        },
        "outputId": "cd39182b-e5c0-4be4-c4a2-b0819fec75e1"
      },
      "source": [
        "import string\n",
        "\n",
        "def count_punct(text):\n",
        "    count = sum([1 for char in text if char in string.punctuation])\n",
        "    return round(count/(len(text) - text.count(\" \")), 3)*100\n",
        "\n",
        "data['body_len'] = data['body_text'].apply(lambda x: len(x) - x.count(\" \"))\n",
        "data['punct%'] = data['body_text'].apply(lambda x: count_punct(x))\n",
        "data.head()"
      ],
      "execution_count": 4,
      "outputs": [
        {
          "output_type": "execute_result",
          "data": {
            "text/html": [
              "<div>\n",
              "<style scoped>\n",
              "    .dataframe tbody tr th:only-of-type {\n",
              "        vertical-align: middle;\n",
              "    }\n",
              "\n",
              "    .dataframe tbody tr th {\n",
              "        vertical-align: top;\n",
              "    }\n",
              "\n",
              "    .dataframe thead th {\n",
              "        text-align: right;\n",
              "    }\n",
              "</style>\n",
              "<table border=\"1\" class=\"dataframe\">\n",
              "  <thead>\n",
              "    <tr style=\"text-align: right;\">\n",
              "      <th></th>\n",
              "      <th>label</th>\n",
              "      <th>body_text</th>\n",
              "      <th>body_len</th>\n",
              "      <th>punct%</th>\n",
              "    </tr>\n",
              "  </thead>\n",
              "  <tbody>\n",
              "    <tr>\n",
              "      <th>0</th>\n",
              "      <td>spam</td>\n",
              "      <td>Free entry in 2 a wkly comp to win FA Cup fina...</td>\n",
              "      <td>128</td>\n",
              "      <td>4.7</td>\n",
              "    </tr>\n",
              "    <tr>\n",
              "      <th>1</th>\n",
              "      <td>ham</td>\n",
              "      <td>Nah I don't think he goes to usf, he lives aro...</td>\n",
              "      <td>49</td>\n",
              "      <td>4.1</td>\n",
              "    </tr>\n",
              "    <tr>\n",
              "      <th>2</th>\n",
              "      <td>ham</td>\n",
              "      <td>Even my brother is not like to speak with me. ...</td>\n",
              "      <td>62</td>\n",
              "      <td>3.2</td>\n",
              "    </tr>\n",
              "    <tr>\n",
              "      <th>3</th>\n",
              "      <td>ham</td>\n",
              "      <td>I HAVE A DATE ON SUNDAY WITH WILL!!</td>\n",
              "      <td>28</td>\n",
              "      <td>7.1</td>\n",
              "    </tr>\n",
              "    <tr>\n",
              "      <th>4</th>\n",
              "      <td>ham</td>\n",
              "      <td>As per your request 'Melle Melle (Oru Minnamin...</td>\n",
              "      <td>135</td>\n",
              "      <td>4.4</td>\n",
              "    </tr>\n",
              "  </tbody>\n",
              "</table>\n",
              "</div>"
            ],
            "text/plain": [
              "  label                                          body_text  body_len  punct%\n",
              "0  spam  Free entry in 2 a wkly comp to win FA Cup fina...       128     4.7\n",
              "1   ham  Nah I don't think he goes to usf, he lives aro...        49     4.1\n",
              "2   ham  Even my brother is not like to speak with me. ...        62     3.2\n",
              "3   ham                I HAVE A DATE ON SUNDAY WITH WILL!!        28     7.1\n",
              "4   ham  As per your request 'Melle Melle (Oru Minnamin...       135     4.4"
            ]
          },
          "metadata": {
            "tags": []
          },
          "execution_count": 4
        }
      ]
    },
    {
      "cell_type": "markdown",
      "metadata": {
        "id": "_xmJfnoSKXyR",
        "colab_type": "text"
      },
      "source": [
        "### Plot the two new features"
      ]
    },
    {
      "cell_type": "code",
      "metadata": {
        "id": "xS7iX6GiKXyS",
        "colab_type": "code",
        "colab": {}
      },
      "source": [
        "from matplotlib import pyplot\n",
        "import numpy as np\n",
        "%matplotlib inline"
      ],
      "execution_count": 5,
      "outputs": []
    },
    {
      "cell_type": "code",
      "metadata": {
        "id": "hmx2j2EkKXyU",
        "colab_type": "code",
        "colab": {
          "base_uri": "https://localhost:8080/",
          "height": 281
        },
        "outputId": "054b5f58-c84a-4388-ddb7-ffa5ced9f1e5"
      },
      "source": [
        "bins = np.linspace(0,200,40)\n",
        "\n",
        "pyplot.hist(data['body_len'], bins)\n",
        "pyplot.title(\"Body Length Distribution\")\n",
        "pyplot.show()"
      ],
      "execution_count": 6,
      "outputs": [
        {
          "output_type": "display_data",
          "data": {
            "image/png": "[encoded data removed]",
            "text/plain": [
              "<Figure size 432x288 with 1 Axes>"
            ]
          },
          "metadata": {
            "tags": [],
            "needs_background": "light"
          }
        }
      ]
    },
    {
      "cell_type": "code",
      "metadata": {
        "id": "ep3VQEUSMAgt",
        "colab_type": "code",
        "colab": {
          "base_uri": "https://localhost:8080/",
          "height": 281
        },
        "outputId": "b2f00ad9-66e7-4bf4-e9b2-39c6acd73ed5"
      },
      "source": [
        "bins = np.linspace(0,50,40)\n",
        "\n",
        "pyplot.hist(data['punct%'], bins)\n",
        "pyplot.title(\"Punctuation % Distribution\")\n",
        "pyplot.show()"
      ],
      "execution_count": 8,
      "outputs": [
        {
          "output_type": "display_data",
          "data": {
            "image/png": "[encoded data removed]",
            "text/plain": [
              "<Figure size 432x288 with 1 Axes>"
            ]
          },
          "metadata": {
            "tags": [],
            "needs_background": "light"
          }
        }
      ]
    },
    {
      "cell_type": "markdown",
      "metadata": {
        "id": "Vlt_MkB7KXyX",
        "colab_type": "text"
      },
      "source": [
        "### Transform the punctuation % feature"
      ]
    },
    {
      "cell_type": "markdown",
      "metadata": {
        "id": "oIN6zAlHKXyX",
        "colab_type": "text"
      },
      "source": [
        "### Box-Cox Power Transformation\n",
        "\n",
        "**Base Form**: $$ y^x $$\n",
        "\n",
        "| X    | Base Form           |           Transformation               |\n",
        "|------|--------------------------|--------------------------|\n",
        "| -2   | $$ y ^ {-2} $$           | $$ \\frac{1}{y^2} $$      |\n",
        "| -1   | $$ y ^ {-1} $$           | $$ \\frac{1}{y} $$        |\n",
        "| -0.5 | $$ y ^ {\\frac{-1}{2}} $$ | $$ \\frac{1}{\\sqrt{y}} $$ |\n",
        "| 0    | $$ y^{0} $$              | $$ log(y) $$             |\n",
        "| 0.5  | $$ y ^ {\\frac{1}{2}}  $$ | $$ \\sqrt{y} $$           |\n",
        "| 1    | $$ y^{1} $$              | $$ y $$                  |\n",
        "| 2    | $$ y^{2} $$              | $$ y^2 $$                |\n",
        "\n",
        "\n",
        "**Process**\n",
        "1. Determine what range of exponents to test\n",
        "2. Apply each transformation to each value of your chosen feature\n",
        "3. Use some criteria to determine which of the transformations yield the best distribution"
      ]
    },
    {
      "cell_type": "code",
      "metadata": {
        "id": "I7xygarOKXyY",
        "colab_type": "code",
        "colab": {
          "base_uri": "https://localhost:8080/",
          "height": 1000
        },
        "outputId": "0a924321-1ac6-4f94-9414-25f722440236"
      },
      "source": [
        "for i in [1, 2, 3, 4, 5]:\n",
        "  pyplot.hist((data['punct%'])**(1/i), bins=40)\n",
        "  pyplot.title(\"Transformation: 1/{}\".format(str(i)))\n",
        "  pyplot.show()"
      ],
      "execution_count": 9,
      "outputs": [
        {
          "output_type": "display_data",
          "data": {
            "image/png": "[encoded data removed]",
            "text/plain": [
              "<Figure size 432x288 with 1 Axes>"
            ]
          },
          "metadata": {
            "tags": [],
            "needs_background": "light"
          }
        },
        {
          "output_type": "display_data",
          "data": {
            "image/png": "[encoded data removed]",
            "text/plain": [
              "<Figure size 432x288 with 1 Axes>"
            ]
          },
          "metadata": {
            "tags": [],
            "needs_background": "light"
          }
        },
        {
          "output_type": "display_data",
          "data": {
            "image/png": "[encoded data removed]",
            "text/plain": [
              "<Figure size 432x288 with 1 Axes>"
            ]
          },
          "metadata": {
            "tags": [],
            "needs_background": "light"
          }
        },
        {
          "output_type": "display_data",
          "data": {
            "image/png": "[encoded data removed]",
            "text/plain": [
              "<Figure size 432x288 with 1 Axes>"
            ]
          },
          "metadata": {
            "tags": [],
            "needs_background": "light"
          }
        },
        {
          "output_type": "display_data",
          "data": {
            "image/png": "[encoded data removed]",
            "text/plain": [
              "<Figure size 432x288 with 1 Axes>"
            ]
          },
          "metadata": {
            "tags": [],
            "needs_background": "light"
          }
        }
      ]
    }
  ]
}